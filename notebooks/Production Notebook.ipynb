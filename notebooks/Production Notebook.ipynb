{
 "cells": [
  {
   "cell_type": "code",
   "execution_count": 1,
   "id": "b09bfb0b-df8f-4047-bfee-cb9e7638663c",
   "metadata": {},
   "outputs": [],
   "source": [
    "import pandas as pd\n",
    "import numpy as np \n",
    "import seaborn as sns\n",
    "import matplotlib.pyplot as plt\n",
    "import unittest\n",
    "from sklearn.preprocessing import StandardScaler"
   ]
  },
  {
   "cell_type": "code",
   "execution_count": 2,
   "id": "6717758f-a15a-4073-a0a3-9a0abc7af4ed",
   "metadata": {},
   "outputs": [],
   "source": [
    "import sys\n",
    "sys.path.insert(0, '../src/') \n",
    "from functions import *"
   ]
  },
  {
   "cell_type": "code",
   "execution_count": 3,
   "id": "39e81f6e-4686-49d5-b4e4-823e66a04b5b",
   "metadata": {},
   "outputs": [
    {
     "name": "stderr",
     "output_type": "stream",
     "text": [
      "F..\n",
      "======================================================================\n",
      "FAIL: test_drop_cols_no_cardinality (__main__.TestCustomFunctions.test_drop_cols_no_cardinality)\n",
      "----------------------------------------------------------------------\n",
      "Traceback (most recent call last):\n",
      "  File \"/Users/katya.chomakova/ai_upskill_2025/ai_upskill_2025_datascience/src/test_functions.py\", line 58, in test_drop_cols_no_cardinality\n",
      "    pd.testing.assert_frame_equal(actual_data, expected_data)\n",
      "  File \"/Users/katya.chomakova/ai_upskill_2025/ai_upskill/lib/python3.12/site-packages/pandas/_testing/asserters.py\", line 1210, in assert_frame_equal\n",
      "    _check_isinstance(left, right, DataFrame)\n",
      "  File \"/Users/katya.chomakova/ai_upskill_2025/ai_upskill/lib/python3.12/site-packages/pandas/_testing/asserters.py\", line 167, in _check_isinstance\n",
      "    raise AssertionError(\n",
      "AssertionError: DataFrame Expected type <class 'pandas.core.frame.DataFrame'>, found <class 'NoneType'> instead\n",
      "\n",
      "----------------------------------------------------------------------\n",
      "Ran 3 tests in 0.003s\n",
      "\n",
      "FAILED (failures=1)\n"
     ]
    },
    {
     "ename": "SystemExit",
     "evalue": "1",
     "output_type": "error",
     "traceback": [
      "An exception has occurred, use %tb to see the full traceback.\n",
      "\u001b[31mSystemExit\u001b[39m\u001b[31m:\u001b[39m 1\n"
     ]
    }
   ],
   "source": [
    "%run ../src/test_functions.py"
   ]
  },
  {
   "cell_type": "code",
   "execution_count": 19,
   "id": "25a6445b-b3dd-47a4-ab04-2723e8a8d9e6",
   "metadata": {},
   "outputs": [],
   "source": [
    "data = pd.DataFrame({\n",
    "            'Age': [25, 30, 35],\n",
    "            'PatientID': [1, 2, 3],\n",
    "            'Category1': [0, 1, 0],\n",
    "            'Category2': [1, 0, 1],\n",
    "            'NumericCol': [10.5, 20.3, 30.1],\n",
    "            'NoCardinalityCol': ['text', 'text', 'text']\n",
    "        })"
   ]
  },
  {
   "cell_type": "code",
   "execution_count": 20,
   "id": "94a899b5-8286-4d52-83c2-b60351364419",
   "metadata": {},
   "outputs": [],
   "source": [
    "cols_to_drop = [col for col in data.columns if data[col].nunique() <= 1]\n",
    "# dataset.drop(columns=cols_to_drop, axis = 1, inplace = True)"
   ]
  },
  {
   "cell_type": "code",
   "execution_count": 21,
   "id": "a835e940-82d7-4ed7-980c-7bb5387093d8",
   "metadata": {},
   "outputs": [],
   "source": [
    "data = data.drop(columns=cols_to_drop, axis = 1)"
   ]
  },
  {
   "cell_type": "code",
   "execution_count": 23,
   "id": "5d600dfb-2bab-49e0-9eaa-dd15655b4747",
   "metadata": {},
   "outputs": [
    {
     "data": {
      "text/plain": [
       "pandas.core.frame.DataFrame"
      ]
     },
     "execution_count": 23,
     "metadata": {},
     "output_type": "execute_result"
    }
   ],
   "source": [
    "    type(data)"
   ]
  }
 ],
 "metadata": {
  "kernelspec": {
   "display_name": "Python 3 (ipykernel)",
   "language": "python",
   "name": "python3"
  },
  "language_info": {
   "codemirror_mode": {
    "name": "ipython",
    "version": 3
   },
   "file_extension": ".py",
   "mimetype": "text/x-python",
   "name": "python",
   "nbconvert_exporter": "python",
   "pygments_lexer": "ipython3",
   "version": "3.12.5"
  }
 },
 "nbformat": 4,
 "nbformat_minor": 5
}
